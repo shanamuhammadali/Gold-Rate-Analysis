{
 "cells": [
  {
   "cell_type": "code",
   "execution_count": 30,
   "id": "37ec8ef1",
   "metadata": {},
   "outputs": [
    {
     "name": "stderr",
     "output_type": "stream",
     "text": [
      "[*********************100%***********************]  1 of 1 completed\n"
     ]
    },
    {
     "data": {
      "text/html": [
       "<div>\n",
       "<style scoped>\n",
       "    .dataframe tbody tr th:only-of-type {\n",
       "        vertical-align: middle;\n",
       "    }\n",
       "\n",
       "    .dataframe tbody tr th {\n",
       "        vertical-align: top;\n",
       "    }\n",
       "\n",
       "    .dataframe thead tr th {\n",
       "        text-align: left;\n",
       "    }\n",
       "\n",
       "    .dataframe thead tr:last-of-type th {\n",
       "        text-align: right;\n",
       "    }\n",
       "</style>\n",
       "<table border=\"1\" class=\"dataframe\">\n",
       "  <thead>\n",
       "    <tr>\n",
       "      <th>Price</th>\n",
       "      <th>Close</th>\n",
       "      <th>High</th>\n",
       "      <th>Low</th>\n",
       "      <th>Open</th>\n",
       "      <th>Volume</th>\n",
       "    </tr>\n",
       "    <tr>\n",
       "      <th>Ticker</th>\n",
       "      <th>GC=F</th>\n",
       "      <th>GC=F</th>\n",
       "      <th>GC=F</th>\n",
       "      <th>GC=F</th>\n",
       "      <th>GC=F</th>\n",
       "    </tr>\n",
       "    <tr>\n",
       "      <th>Date</th>\n",
       "      <th></th>\n",
       "      <th></th>\n",
       "      <th></th>\n",
       "      <th></th>\n",
       "      <th></th>\n",
       "    </tr>\n",
       "  </thead>\n",
       "  <tbody>\n",
       "    <tr>\n",
       "      <th>2000-08-30</th>\n",
       "      <td>273.899994</td>\n",
       "      <td>273.899994</td>\n",
       "      <td>273.899994</td>\n",
       "      <td>273.899994</td>\n",
       "      <td>0</td>\n",
       "    </tr>\n",
       "    <tr>\n",
       "      <th>2000-08-31</th>\n",
       "      <td>278.299988</td>\n",
       "      <td>278.299988</td>\n",
       "      <td>274.799988</td>\n",
       "      <td>274.799988</td>\n",
       "      <td>0</td>\n",
       "    </tr>\n",
       "    <tr>\n",
       "      <th>2000-09-01</th>\n",
       "      <td>277.000000</td>\n",
       "      <td>277.000000</td>\n",
       "      <td>277.000000</td>\n",
       "      <td>277.000000</td>\n",
       "      <td>0</td>\n",
       "    </tr>\n",
       "    <tr>\n",
       "      <th>2000-09-05</th>\n",
       "      <td>275.799988</td>\n",
       "      <td>275.799988</td>\n",
       "      <td>275.799988</td>\n",
       "      <td>275.799988</td>\n",
       "      <td>2</td>\n",
       "    </tr>\n",
       "    <tr>\n",
       "      <th>2000-09-06</th>\n",
       "      <td>274.200012</td>\n",
       "      <td>274.200012</td>\n",
       "      <td>274.200012</td>\n",
       "      <td>274.200012</td>\n",
       "      <td>0</td>\n",
       "    </tr>\n",
       "  </tbody>\n",
       "</table>\n",
       "</div>"
      ],
      "text/plain": [
       "Price            Close        High         Low        Open Volume\n",
       "Ticker            GC=F        GC=F        GC=F        GC=F   GC=F\n",
       "Date                                                             \n",
       "2000-08-30  273.899994  273.899994  273.899994  273.899994      0\n",
       "2000-08-31  278.299988  278.299988  274.799988  274.799988      0\n",
       "2000-09-01  277.000000  277.000000  277.000000  277.000000      0\n",
       "2000-09-05  275.799988  275.799988  275.799988  275.799988      2\n",
       "2000-09-06  274.200012  274.200012  274.200012  274.200012      0"
      ]
     },
     "execution_count": 30,
     "metadata": {},
     "output_type": "execute_result"
    }
   ],
   "source": [
    "import yfinance as yf\n",
    "import pandas as pd\n",
    "\n",
    "# Define the ticker symbol for Gold Futures\n",
    "ticker = 'GC=F'\n",
    "\n",
    "# Download historical data for the past 5 years\n",
    "gold_data = yf.download(ticker, start='2000-01-01')\n",
    "\n",
    "# Show the first 5 rows\n",
    "gold_data.head()\n"
   ]
  },
  {
   "cell_type": "code",
   "execution_count": 31,
   "id": "f0099a26",
   "metadata": {},
   "outputs": [
    {
     "name": "stderr",
     "output_type": "stream",
     "text": [
      "[*********************100%***********************]  1 of 1 completed\n",
      "[*********************100%***********************]  1 of 1 completed\n"
     ]
    }
   ],
   "source": [
    "import yfinance as yf\n",
    "import pandas as pd\n",
    "\n",
    "# Download data\n",
    "gold_usd_raw = yf.download('GC=F', start='2000-01-01', auto_adjust=False)\n",
    "usd_inr_raw = yf.download('INR=X', start='2000-01-01', auto_adjust=False)\n",
    "\n",
    "# print(gold_usd_raw.head())\n",
    "\n",
    "# print(\"--------------------------\")\n",
    "# print(usd_inr_raw.head())\n",
    "\n",
    "# Select and rename Series\n",
    "gold_usd = gold_usd_raw['Close']['GC=F'].rename('Gold_USD_per_oz')\n",
    "usd_inr = usd_inr_raw['Close']['INR=X'].rename('USD_to_INR')\n",
    "\n",
    "\n",
    "# Merge into one DataFrame\n",
    "gold_inr = pd.concat([gold_usd, usd_inr], axis=1).dropna()\n",
    "\n"
   ]
  },
  {
   "cell_type": "code",
   "execution_count": 33,
   "id": "4872caa9",
   "metadata": {},
   "outputs": [
    {
     "name": "stdout",
     "output_type": "stream",
     "text": [
      "<class 'pandas.core.frame.DataFrame'>\n",
      "DatetimeIndex: 5339 entries, 2003-12-01 to 2025-04-17\n",
      "Data columns (total 2 columns):\n",
      " #   Column           Non-Null Count  Dtype  \n",
      "---  ------           --------------  -----  \n",
      " 0   Gold_USD_per_oz  5339 non-null   float64\n",
      " 1   USD_to_INR       5339 non-null   float64\n",
      "dtypes: float64(2)\n",
      "memory usage: 125.1 KB\n"
     ]
    }
   ],
   "source": [
    "gold_inr.head()\n",
    "gold_inr.info()"
   ]
  },
  {
   "cell_type": "code",
   "execution_count": 34,
   "id": "a5b3ac96",
   "metadata": {},
   "outputs": [
    {
     "data": {
      "text/html": [
       "<div>\n",
       "<style scoped>\n",
       "    .dataframe tbody tr th:only-of-type {\n",
       "        vertical-align: middle;\n",
       "    }\n",
       "\n",
       "    .dataframe tbody tr th {\n",
       "        vertical-align: top;\n",
       "    }\n",
       "\n",
       "    .dataframe thead th {\n",
       "        text-align: right;\n",
       "    }\n",
       "</style>\n",
       "<table border=\"1\" class=\"dataframe\">\n",
       "  <thead>\n",
       "    <tr style=\"text-align: right;\">\n",
       "      <th></th>\n",
       "      <th>Gold_USD_per_oz</th>\n",
       "      <th>USD_to_INR</th>\n",
       "      <th>Gold_INR_per_gram</th>\n",
       "    </tr>\n",
       "    <tr>\n",
       "      <th>Date</th>\n",
       "      <th></th>\n",
       "      <th></th>\n",
       "      <th></th>\n",
       "    </tr>\n",
       "  </thead>\n",
       "  <tbody>\n",
       "    <tr>\n",
       "      <th>2003-12-01</th>\n",
       "      <td>402.700012</td>\n",
       "      <td>45.709999</td>\n",
       "      <td>683.542587</td>\n",
       "    </tr>\n",
       "    <tr>\n",
       "      <th>2003-12-02</th>\n",
       "      <td>403.700012</td>\n",
       "      <td>45.629002</td>\n",
       "      <td>684.025750</td>\n",
       "    </tr>\n",
       "    <tr>\n",
       "      <th>2003-12-03</th>\n",
       "      <td>403.899994</td>\n",
       "      <td>45.549999</td>\n",
       "      <td>683.179684</td>\n",
       "    </tr>\n",
       "    <tr>\n",
       "      <th>2003-12-04</th>\n",
       "      <td>403.299988</td>\n",
       "      <td>45.548000</td>\n",
       "      <td>682.134863</td>\n",
       "    </tr>\n",
       "    <tr>\n",
       "      <th>2003-12-05</th>\n",
       "      <td>406.399994</td>\n",
       "      <td>45.449001</td>\n",
       "      <td>685.884139</td>\n",
       "    </tr>\n",
       "  </tbody>\n",
       "</table>\n",
       "</div>"
      ],
      "text/plain": [
       "            Gold_USD_per_oz  USD_to_INR  Gold_INR_per_gram\n",
       "Date                                                      \n",
       "2003-12-01       402.700012   45.709999         683.542587\n",
       "2003-12-02       403.700012   45.629002         684.025750\n",
       "2003-12-03       403.899994   45.549999         683.179684\n",
       "2003-12-04       403.299988   45.548000         682.134863\n",
       "2003-12-05       406.399994   45.449001         685.884139"
      ]
     },
     "execution_count": 34,
     "metadata": {},
     "output_type": "execute_result"
    }
   ],
   "source": [
    "# Function to compute the gold prize in INR considering gst, import duty\n",
    "def compute_gold_price_with_taxes(gold_usd, usd_inr, import_duty=0.125, gst=0.03):\n",
    "    gold_inr['Gold_INR_per_gram'] = (\n",
    "        (gold_inr['Gold_USD_per_oz'] * gold_inr['USD_to_INR']) / 31.1035\n",
    "    ) * (1 + import_duty + gst)\n",
    "    return gold_inr\n",
    "\n",
    "\n",
    "gold_data = compute_gold_price_with_taxes(gold_usd, usd_inr, import_duty=0.125, gst=0.03)\n",
    "gold_data.head()"
   ]
  },
  {
   "cell_type": "code",
   "execution_count": null,
   "id": "ac3a85a2",
   "metadata": {},
   "outputs": [],
   "source": []
  }
 ],
 "metadata": {
  "kernelspec": {
   "display_name": "Python 3 (ipykernel)",
   "language": "python",
   "name": "python3"
  },
  "language_info": {
   "codemirror_mode": {
    "name": "ipython",
    "version": 3
   },
   "file_extension": ".py",
   "mimetype": "text/x-python",
   "name": "python",
   "nbconvert_exporter": "python",
   "pygments_lexer": "ipython3",
   "version": "3.11.3"
  }
 },
 "nbformat": 4,
 "nbformat_minor": 5
}
